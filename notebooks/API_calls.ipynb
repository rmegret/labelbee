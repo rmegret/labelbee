{
 "cells": [
  {
   "cell_type": "markdown",
   "metadata": {},
   "source": [
    "# **DO NOT RUN ALL CODE CELLS**"
   ]
  },
  {
   "cell_type": "markdown",
   "metadata": {},
   "source": [
    "Import required Libraries"
   ]
  },
  {
   "cell_type": "code",
   "execution_count": 2,
   "metadata": {},
   "outputs": [],
   "source": [
    "from requests import Session\n",
    "from requests.auth import HTTPBasicAuth"
   ]
  },
  {
   "cell_type": "markdown",
   "metadata": {},
   "source": [
    "Create session and log in"
   ]
  },
  {
   "cell_type": "code",
   "execution_count": null,
   "metadata": {},
   "outputs": [],
   "source": [
    "s = Session()\n",
    "r = s.get(\n",
    "    \"http://127.0.0.1:5000/rest/auth/login\",\n",
    "    #auth=HTTPBasicAuth(\"demo\", \"demo\"),\n",
    "    data={\"email\": \"admin@example.com\", \"password\": \"Password1\"},\n",
    ")\n",
    "\n",
    "csrf_token = r.json()[\"csrf_token\"]"
   ]
  },
  {
   "cell_type": "markdown",
   "metadata": {},
   "source": [
    "Endpoints:"
   ]
  },
  {
   "cell_type": "code",
   "execution_count": null,
   "metadata": {},
   "outputs": [],
   "source": [
    "r = s.get(\n",
    "    \"http://127.0.0.1:5000/rest/v2/get_video/1\",\n",
    "    #auth=HTTPBasicAuth(\"demo\", \"demo\"),\n",
    ")\n",
    "\n",
    "print(r.text)"
   ]
  }
 ],
 "metadata": {
  "interpreter": {
   "hash": "c7d10fbbea07aa38808d057d7f81ad64fd95bf0f59f928b952015646d5cb42f1"
  },
  "kernelspec": {
   "display_name": "Python 3.8.10 64-bit ('labelbee': conda)",
   "name": "python3"
  },
  "language_info": {
   "codemirror_mode": {
    "name": "ipython",
    "version": 3
   },
   "file_extension": ".py",
   "mimetype": "text/x-python",
   "name": "python",
   "nbconvert_exporter": "python",
   "pygments_lexer": "ipython3",
   "version": "3.8.10"
  },
  "orig_nbformat": 4
 },
 "nbformat": 4,
 "nbformat_minor": 2
}
